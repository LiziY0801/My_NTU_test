{
 "cells": [
  {
   "cell_type": "code",
   "execution_count": 1,
   "id": "9ae46fbd",
   "metadata": {},
   "outputs": [
    {
     "name": "stdout",
     "output_type": "stream",
     "text": [
      "Defaulting to user installation because normal site-packages is not writeable\n",
      "Requirement already satisfied: flask in c:\\users\\13021\\appdata\\roaming\\python\\python39\\site-packages (3.0.3)\n",
      "Requirement already satisfied: Werkzeug>=3.0.0 in c:\\users\\13021\\appdata\\roaming\\python\\python39\\site-packages (from flask) (3.0.3)\n",
      "Requirement already satisfied: blinker>=1.6.2 in c:\\users\\13021\\appdata\\roaming\\python\\python39\\site-packages (from flask) (1.8.2)\n",
      "Requirement already satisfied: itsdangerous>=2.1.2 in c:\\users\\13021\\appdata\\roaming\\python\\python39\\site-packages (from flask) (2.2.0)\n",
      "Requirement already satisfied: Jinja2>=3.1.2 in c:\\users\\13021\\appdata\\roaming\\python\\python39\\site-packages (from flask) (3.1.4)\n",
      "Requirement already satisfied: importlib-metadata>=3.6.0 in c:\\users\\13021\\appdata\\roaming\\python\\python39\\site-packages (from flask) (8.1.0)\n",
      "Requirement already satisfied: click>=8.1.3 in c:\\users\\13021\\appdata\\roaming\\python\\python39\\site-packages (from flask) (8.1.7)\n",
      "Requirement already satisfied: colorama in c:\\users\\13021\\appdata\\roaming\\python\\python39\\site-packages (from click>=8.1.3->flask) (0.4.6)\n",
      "Requirement already satisfied: zipp>=0.5 in c:\\users\\13021\\appdata\\roaming\\python\\python39\\site-packages (from importlib-metadata>=3.6.0->flask) (3.19.2)\n",
      "Requirement already satisfied: MarkupSafe>=2.0 in c:\\users\\13021\\appdata\\roaming\\python\\python39\\site-packages (from Jinja2>=3.1.2->flask) (2.1.5)\n",
      "Note: you may need to restart the kernel to use updated packages.\n"
     ]
    },
    {
     "name": "stderr",
     "output_type": "stream",
     "text": [
      "WARNING: You are using pip version 22.0.4; however, version 24.1.2 is available.\n",
      "You should consider upgrading via the 'c:\\Program Files (x86)\\Microsoft Visual Studio\\Shared\\Python39_64\\python.exe -m pip install --upgrade pip' command.\n"
     ]
    }
   ],
   "source": [
    "pip install flask"
   ]
  },
  {
   "cell_type": "code",
   "execution_count": 2,
   "id": "86ef90b9",
   "metadata": {},
   "outputs": [
    {
     "name": "stdout",
     "output_type": "stream",
     "text": [
      "Defaulting to user installation because normal site-packages is not writeable\n",
      "Requirement already satisfied: google-generativeai in c:\\users\\13021\\appdata\\roaming\\python\\python39\\site-packages (0.7.2)\n",
      "Requirement already satisfied: tqdm in c:\\users\\13021\\appdata\\roaming\\python\\python39\\site-packages (from google-generativeai) (4.66.4)\n",
      "Requirement already satisfied: google-api-python-client in c:\\users\\13021\\appdata\\roaming\\python\\python39\\site-packages (from google-generativeai) (2.137.0)\n",
      "Requirement already satisfied: pydantic in c:\\users\\13021\\appdata\\roaming\\python\\python39\\site-packages (from google-generativeai) (2.8.2)\n",
      "Requirement already satisfied: google-api-core in c:\\users\\13021\\appdata\\roaming\\python\\python39\\site-packages (from google-generativeai) (2.19.1)\n",
      "Requirement already satisfied: google-auth>=2.15.0 in c:\\users\\13021\\appdata\\roaming\\python\\python39\\site-packages (from google-generativeai) (2.32.0)\n",
      "Requirement already satisfied: protobuf in c:\\users\\13021\\appdata\\roaming\\python\\python39\\site-packages (from google-generativeai) (4.25.3)\n",
      "Requirement already satisfied: google-ai-generativelanguage==0.6.6 in c:\\users\\13021\\appdata\\roaming\\python\\python39\\site-packages (from google-generativeai) (0.6.6)\n",
      "Requirement already satisfied: typing-extensions in c:\\users\\13021\\appdata\\roaming\\python\\python39\\site-packages (from google-generativeai) (4.12.2)\n",
      "Requirement already satisfied: proto-plus<2.0.0dev,>=1.22.3 in c:\\users\\13021\\appdata\\roaming\\python\\python39\\site-packages (from google-ai-generativelanguage==0.6.6->google-generativeai) (1.24.0)\n",
      "Requirement already satisfied: cachetools<6.0,>=2.0.0 in c:\\users\\13021\\appdata\\roaming\\python\\python39\\site-packages (from google-auth>=2.15.0->google-generativeai) (5.4.0)\n",
      "Requirement already satisfied: rsa<5,>=3.1.4 in c:\\users\\13021\\appdata\\roaming\\python\\python39\\site-packages (from google-auth>=2.15.0->google-generativeai) (4.9)\n",
      "Requirement already satisfied: pyasn1-modules>=0.2.1 in c:\\users\\13021\\appdata\\roaming\\python\\python39\\site-packages (from google-auth>=2.15.0->google-generativeai) (0.4.0)\n",
      "Requirement already satisfied: requests<3.0.0.dev0,>=2.18.0 in c:\\users\\13021\\appdata\\roaming\\python\\python39\\site-packages (from google-api-core->google-generativeai) (2.32.3)\n",
      "Requirement already satisfied: googleapis-common-protos<2.0.dev0,>=1.56.2 in c:\\users\\13021\\appdata\\roaming\\python\\python39\\site-packages (from google-api-core->google-generativeai) (1.63.2)\n",
      "Requirement already satisfied: uritemplate<5,>=3.0.1 in c:\\users\\13021\\appdata\\roaming\\python\\python39\\site-packages (from google-api-python-client->google-generativeai) (4.1.1)\n",
      "Requirement already satisfied: httplib2<1.dev0,>=0.19.0 in c:\\users\\13021\\appdata\\roaming\\python\\python39\\site-packages (from google-api-python-client->google-generativeai) (0.22.0)\n",
      "Requirement already satisfied: google-auth-httplib2<1.0.0,>=0.2.0 in c:\\users\\13021\\appdata\\roaming\\python\\python39\\site-packages (from google-api-python-client->google-generativeai) (0.2.0)\n",
      "Requirement already satisfied: pydantic-core==2.20.1 in c:\\users\\13021\\appdata\\roaming\\python\\python39\\site-packages (from pydantic->google-generativeai) (2.20.1)\n",
      "Requirement already satisfied: annotated-types>=0.4.0 in c:\\users\\13021\\appdata\\roaming\\python\\python39\\site-packages (from pydantic->google-generativeai) (0.7.0)\n",
      "Requirement already satisfied: colorama in c:\\users\\13021\\appdata\\roaming\\python\\python39\\site-packages (from tqdm->google-generativeai) (0.4.6)\n",
      "Requirement already satisfied: grpcio-status<2.0.dev0,>=1.33.2 in c:\\users\\13021\\appdata\\roaming\\python\\python39\\site-packages (from google-api-core->google-generativeai) (1.62.2)\n",
      "Requirement already satisfied: grpcio<2.0dev,>=1.33.2 in c:\\users\\13021\\appdata\\roaming\\python\\python39\\site-packages (from google-api-core->google-generativeai) (1.65.1)\n",
      "Requirement already satisfied: pyparsing!=3.0.0,!=3.0.1,!=3.0.2,!=3.0.3,<4,>=2.4.2 in c:\\users\\13021\\appdata\\roaming\\python\\python39\\site-packages (from httplib2<1.dev0,>=0.19.0->google-api-python-client->google-generativeai) (3.1.2)\n",
      "Requirement already satisfied: pyasn1<0.7.0,>=0.4.6 in c:\\users\\13021\\appdata\\roaming\\python\\python39\\site-packages (from pyasn1-modules>=0.2.1->google-auth>=2.15.0->google-generativeai) (0.6.0)\n",
      "Requirement already satisfied: urllib3<3,>=1.21.1 in c:\\users\\13021\\appdata\\roaming\\python\\python39\\site-packages (from requests<3.0.0.dev0,>=2.18.0->google-api-core->google-generativeai) (2.2.2)\n",
      "Requirement already satisfied: certifi>=2017.4.17 in c:\\users\\13021\\appdata\\roaming\\python\\python39\\site-packages (from requests<3.0.0.dev0,>=2.18.0->google-api-core->google-generativeai) (2024.7.4)\n",
      "Requirement already satisfied: idna<4,>=2.5 in c:\\users\\13021\\appdata\\roaming\\python\\python39\\site-packages (from requests<3.0.0.dev0,>=2.18.0->google-api-core->google-generativeai) (3.7)\n",
      "Requirement already satisfied: charset-normalizer<4,>=2 in c:\\users\\13021\\appdata\\roaming\\python\\python39\\site-packages (from requests<3.0.0.dev0,>=2.18.0->google-api-core->google-generativeai) (3.3.2)\n",
      "Note: you may need to restart the kernel to use updated packages.\n"
     ]
    },
    {
     "name": "stderr",
     "output_type": "stream",
     "text": [
      "WARNING: You are using pip version 22.0.4; however, version 24.1.2 is available.\n",
      "You should consider upgrading via the 'c:\\Program Files (x86)\\Microsoft Visual Studio\\Shared\\Python39_64\\python.exe -m pip install --upgrade pip' command.\n"
     ]
    }
   ],
   "source": [
    "pip install google-generativeai"
   ]
  },
  {
   "cell_type": "code",
   "execution_count": 3,
   "id": "2a97df7a",
   "metadata": {},
   "outputs": [
    {
     "name": "stdout",
     "output_type": "stream",
     "text": [
      " * Serving Flask app '__main__'\n",
      " * Debug mode: off\n"
     ]
    },
    {
     "name": "stderr",
     "output_type": "stream",
     "text": [
      "C:\\Users\\13021\\AppData\\Roaming\\Python\\Python39\\site-packages\\tqdm\\auto.py:21: TqdmWarning: IProgress not found. Please update jupyter and ipywidgets. See https://ipywidgets.readthedocs.io/en/stable/user_install.html\n",
      "  from .autonotebook import tqdm as notebook_tqdm\n",
      "WARNING: This is a development server. Do not use it in a production deployment. Use a production WSGI server instead.\n",
      " * Running on http://127.0.0.1:5000\n",
      "Press CTRL+C to quit\n",
      "127.0.0.1 - - [24/Jul/2024 09:56:37] \"GET / HTTP/1.1\" 200 -\n",
      "127.0.0.1 - - [24/Jul/2024 09:56:45] \"POST /main HTTP/1.1\" 200 -\n",
      "[2024-07-24 09:57:02,184] ERROR in app: Exception on /genAI [POST]\n",
      "Traceback (most recent call last):\n",
      "  File \"C:\\Users\\13021\\AppData\\Roaming\\Python\\Python39\\site-packages\\flask\\app.py\", line 1473, in wsgi_app\n",
      "    response = self.full_dispatch_request()\n",
      "  File \"C:\\Users\\13021\\AppData\\Roaming\\Python\\Python39\\site-packages\\flask\\app.py\", line 882, in full_dispatch_request\n",
      "    rv = self.handle_user_exception(e)\n",
      "  File \"C:\\Users\\13021\\AppData\\Roaming\\Python\\Python39\\site-packages\\flask\\app.py\", line 880, in full_dispatch_request\n",
      "    rv = self.dispatch_request()\n",
      "  File \"C:\\Users\\13021\\AppData\\Roaming\\Python\\Python39\\site-packages\\flask\\app.py\", line 865, in dispatch_request\n",
      "    return self.ensure_sync(self.view_functions[rule.endpoint])(**view_args)  # type: ignore[no-any-return]\n",
      "  File \"C:\\Users\\13021\\AppData\\Local\\Temp\\ipykernel_21600\\1672349080.py\", line 22, in genAI\n",
      "    return(render_template(\"genAI.html\",r=r.last))\n",
      "  File \"C:\\Users\\13021\\AppData\\Roaming\\Python\\Python39\\site-packages\\flask\\templating.py\", line 149, in render_template\n",
      "    template = app.jinja_env.get_or_select_template(template_name_or_list)\n",
      "  File \"C:\\Users\\13021\\AppData\\Roaming\\Python\\Python39\\site-packages\\jinja2\\environment.py\", line 1084, in get_or_select_template\n",
      "    return self.get_template(template_name_or_list, parent, globals)\n",
      "  File \"C:\\Users\\13021\\AppData\\Roaming\\Python\\Python39\\site-packages\\jinja2\\environment.py\", line 1013, in get_template\n",
      "    return self._load_template(name, globals)\n",
      "  File \"C:\\Users\\13021\\AppData\\Roaming\\Python\\Python39\\site-packages\\jinja2\\environment.py\", line 972, in _load_template\n",
      "    template = self.loader.load(self, name, self.make_globals(globals))\n",
      "  File \"C:\\Users\\13021\\AppData\\Roaming\\Python\\Python39\\site-packages\\jinja2\\loaders.py\", line 126, in load\n",
      "    source, filename, uptodate = self.get_source(environment, name)\n",
      "  File \"C:\\Users\\13021\\AppData\\Roaming\\Python\\Python39\\site-packages\\flask\\templating.py\", line 65, in get_source\n",
      "    return self._get_source_fast(environment, template)\n",
      "  File \"C:\\Users\\13021\\AppData\\Roaming\\Python\\Python39\\site-packages\\flask\\templating.py\", line 99, in _get_source_fast\n",
      "    raise TemplateNotFound(template)\n",
      "jinja2.exceptions.TemplateNotFound: genAI.html\n",
      "127.0.0.1 - - [24/Jul/2024 09:57:02] \"POST /genAI HTTP/1.1\" 500 -\n"
     ]
    }
   ],
   "source": [
    "from flask import Flask,render_template,request\n",
    "import google.generativeai as palm\n",
    "\n",
    "palm.configure(api_key=\"")\n",
    "model = {\"model\":\"models/chat-bison-001\"}\n",
    "\n",
    "app = Flask(__name__)\n",
    "\n",
    "@app.route(\"/\",methods=[\"GET\",\"POST\"])\n",
    "def index():\n",
    "    return(render_template(\"index.html\"))\n",
    "\n",
    "@app.route(\"/main\",methods=[\"GET\",\"POST\"])\n",
    "def main():\n",
    "    r = request.form.get(\"q\")\n",
    "    return(render_template(\"main.html\",r=r))\n",
    "\n",
    "@app.route(\"/genAI\",methods=[\"GET\",\"POST\"])\n",
    "def genAI():\n",
    "    q = request.form.get(\"q\")\n",
    "    r = palm.chat(**model,messages=q)\n",
    "    return(render_template(\"genAI.html\",r=r.last))\n",
    "\n",
    "if __name__ == \"__main__\":\n",
    "    app.run()"
   ]
  },
  {
   "cell_type": "code",
   "execution_count": null,
   "id": "4681aa45",
   "metadata": {},
   "outputs": [],
   "source": []
  },
  {
   "cell_type": "code",
   "execution_count": null,
   "id": "d4eb5d15",
   "metadata": {},
   "outputs": [],
   "source": []
  }
 ],
 "metadata": {
  "kernelspec": {
   "display_name": "Python 3 (ipykernel)",
   "language": "python",
   "name": "python3"
  },
  "language_info": {
   "codemirror_mode": {
    "name": "ipython",
    "version": 3
   },
   "file_extension": ".py",
   "mimetype": "text/x-python",
   "name": "python",
   "nbconvert_exporter": "python",
   "pygments_lexer": "ipython3",
   "version": "3.9.13"
  }
 },
 "nbformat": 4,
 "nbformat_minor": 5
}
